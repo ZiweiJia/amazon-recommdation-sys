{
 "cells": [
  {
   "cell_type": "code",
   "execution_count": 86,
   "metadata": {},
   "outputs": [],
   "source": [
    "from bs4 import BeautifulSoup\n",
    "import urllib.request\n",
    "\n",
    "def get_bookinf(asin):\n",
    "    try:\n",
    "        url = 'https://www.abebooks.com/servlet/SearchResults?cm_sp=SearchF-_-topnav-_-Results&kn=' + str(asin) +'&sts=t'\n",
    "        page = urllib.request.urlopen(url)\n",
    "        soup = BeautifulSoup(page,'html.parser')\n",
    "        div = soup.find('div', attrs = {'id':'book-1'})\n",
    "        results = div.find_all('meta')\n",
    "        inf = []\n",
    "        for result in results:\n",
    "            inf.append(result['content'])\n",
    "        return [inf[1],inf[2]]\n",
    "    except IOError:\n",
    "        return \"no book found\""
   ]
  },
  {
   "cell_type": "code",
   "execution_count": 87,
   "metadata": {},
   "outputs": [
    {
     "data": {
      "text/plain": [
       "['If I Stay', 'Gayle Forman']"
      ]
     },
     "execution_count": 87,
     "metadata": {},
     "output_type": "execute_result"
    }
   ],
   "source": [
    "get_bookinf('014241543x')"
   ]
  },
  {
   "cell_type": "code",
   "execution_count": null,
   "metadata": {},
   "outputs": [],
   "source": []
  }
 ],
 "metadata": {
  "kernelspec": {
   "display_name": "Python 3",
   "language": "python",
   "name": "python3"
  },
  "language_info": {
   "codemirror_mode": {
    "name": "ipython",
    "version": 3
   },
   "file_extension": ".py",
   "mimetype": "text/x-python",
   "name": "python",
   "nbconvert_exporter": "python",
   "pygments_lexer": "ipython3",
   "version": "3.6.8"
  }
 },
 "nbformat": 4,
 "nbformat_minor": 4
}
