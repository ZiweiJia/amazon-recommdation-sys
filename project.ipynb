{
 "cells": [
  {
   "cell_type": "code",
   "execution_count": 7,
   "metadata": {},
   "outputs": [
    {
     "name": "stdout",
     "output_type": "stream",
     "text": [
      "n_reviews: 8898041\n",
      "n_reviewer: 603668\n",
      "n_books: 367982\n"
     ]
    }
   ],
   "source": [
    "# sc.stop()\n",
    "import time\n",
    "import json\n",
    "import sys\n",
    "from pyspark import SparkContext\n",
    "\n",
    "if __name__ == '__main__':\n",
    "#     input_json_path = sys.argv[1]\n",
    "#     output_json_path = sys.argv[2]\n",
    "    sc = SparkContext.getOrCreate()  \n",
    "#     try:\n",
    "#         sc\n",
    "#     except NameError:\n",
    "#         sc = SparkContext(\"local[*]\",\"PySpark Tutorial\")\n",
    "    time_start = time.time()\n",
    "    input_json_path = 'Books_5.json'\n",
    "    lines = sc.textFile(input_json_path)\n",
    "    n_lines = lines.count()\n",
    "    print('n_reviews:',n_lines)\n",
    "    json_read = lines.map(lambda line: json.loads(line))\n",
    "    reviewer_id_count = json_read.map(lambda line: (line['reviewerID'], 1)).reduceByKey(lambda a, b:a + b).count()\n",
    "    print('n_reviewer:',reviewer_id_count)\n",
    "    asin_count = json_read.map(lambda line: (line['asin'], 1)).reduceByKey(lambda a, b:a + b).count()\n",
    "    print('n_books:',asin_count)\n",
    "    time_end = time.time()"
   ]
  },
  {
   "cell_type": "code",
   "execution_count": 8,
   "metadata": {},
   "outputs": [
    {
     "data": {
      "text/plain": [
       "91.07474875450134"
      ]
     },
     "execution_count": 8,
     "metadata": {},
     "output_type": "execute_result"
    }
   ],
   "source": [
    "time_end-time_start"
   ]
  },
  {
   "cell_type": "code",
   "execution_count": null,
   "metadata": {},
   "outputs": [],
   "source": []
  }
 ],
 "metadata": {
  "kernelspec": {
   "display_name": "Python 3",
   "language": "python",
   "name": "python3"
  },
  "language_info": {
   "codemirror_mode": {
    "name": "ipython",
    "version": 3
   },
   "file_extension": ".py",
   "mimetype": "text/x-python",
   "name": "python",
   "nbconvert_exporter": "python",
   "pygments_lexer": "ipython3",
   "version": "3.6.8"
  }
 },
 "nbformat": 4,
 "nbformat_minor": 2
}
